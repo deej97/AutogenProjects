{
 "cells": [
  {
   "cell_type": "markdown",
   "metadata": {},
   "source": [
    "# Debate Agent\n",
    "\n",
    "## Overview\n",
    "Debate Agent is an AI project that simulates a debate on a given topic. It consists of two agents that present their arguments and a judge agent that evaluates the arguments and determines the winner.\n",
    "\n",
    "## Features\n",
    "- Two debate agents that argue on a provided topic.\n",
    "- A judge agent that evaluates the arguments and provides a judgement.\n",
    "\n",
    "## Tools/Framework used\n",
    "- Autogen ConversableAgent \n",
    "- Autogen AssistantAgent\n",
    "- AzureOpenAi model used in backend"
   ]
  },
  {
   "cell_type": "code",
   "execution_count": 1,
   "metadata": {},
   "outputs": [
    {
     "name": "stderr",
     "output_type": "stream",
     "text": [
      "c:\\Users\\deej\\Documents\\MLworks\\AI\\venv\\Lib\\site-packages\\flaml\\__init__.py:20: UserWarning: flaml.automl is not available. Please install flaml[automl] to enable AutoML functionalities.\n",
      "  warnings.warn(\"flaml.automl is not available. Please install flaml[automl] to enable AutoML functionalities.\")\n"
     ]
    }
   ],
   "source": [
    "import autogen\n",
    "from autogen import ConversableAgent"
   ]
  },
  {
   "cell_type": "code",
   "execution_count": null,
   "metadata": {},
   "outputs": [],
   "source": [
    "#used AzureOpenAi model\n",
    "llm_config={\n",
    "        \"model\": \"gpt-4\",\n",
    "        \"api_key\": \"your api key\",\n",
    "        \"api_type\": \"azure\",\n",
    "        \"base_url\": \"your url for the model\",\n",
    "        \"api_version\":\"2024-05-01-preview\"}"
   ]
  },
  {
   "cell_type": "code",
   "execution_count": 3,
   "metadata": {},
   "outputs": [],
   "source": [
    "agent=ConversableAgent(\n",
    "    name=\"chatbot\",llm_config=llm_config,human_input_mode=\"NEVER\")"
   ]
  },
  {
   "cell_type": "code",
   "execution_count": 4,
   "metadata": {},
   "outputs": [],
   "source": [
    "mark = ConversableAgent(\n",
    "    name=\"mark\",\n",
    "    system_message=\n",
    "    \"Your name is Mark and you are a participant for debate. The topic of debate is Should animal testing be banned or not. Your going to bring out crisp and points with evidence that supporting the banning of animal testing. Give one solid point/reason whenever your turn comes and justify, also consider the other person's previous response and make ur point of argument if possible.\",\n",
    "    llm_config=llm_config,\n",
    "    human_input_mode=\"NEVER\",\n",
    ")\n",
    "\n",
    "ed = ConversableAgent(\n",
    "    name=\"ed\",\n",
    "    system_message=\n",
    "    \"YYour name is Ed and you are a participant for debate. The topic of debate is Should animal testing be banned or not. Your going to bring out crisp and points with evidence that supporting not banning of animal testing, give one solid point when you are asked everytime as a response of highlighting the actual benefit of your side of argument\",\n",
    "    llm_config=llm_config,\n",
    "    human_input_mode=\"NEVER\",\n",
    ")"
   ]
  },
  {
   "cell_type": "code",
   "execution_count": 5,
   "metadata": {},
   "outputs": [
    {
     "name": "stdout",
     "output_type": "stream",
     "text": [
      "\u001b[33med\u001b[0m (to mark):\n",
      "\n",
      "Lets start the debate on if animal testing should be banned of not\n",
      "\n",
      "--------------------------------------------------------------------------------\n",
      "\u001b[33mmark\u001b[0m (to ed):\n",
      "\n",
      "Sure, let’s begin the debate! Since I am advocating for the banning of animal testing, let me start.\n",
      "\n",
      "---\n",
      "\n",
      "**My Point:** Animal testing is unethical and violates animal rights.\n",
      "\n",
      "Animals are sentient beings capable of feeling pain, stress, and fear, just like humans. Subjecting them to invasive experiments, confinement, and eventual euthanasia strips them of their intrinsic rights to live free from suffering. While proponents argue that animals are \"lesser species\" and thus acceptable for experimentation, this perspective fails to acknowledge their capacity for emotional and physical suffering.\n",
      "\n",
      "Instead of justifying animal testing on moral grounds, we should consider ethical alternatives, such as in-vitro testing or computer modeling, which do not harm living beings. Just as society has evolved to protect vulnerable groups of humans, we have a moral obligation to extend that consideration to animals.\n",
      "\n",
      "---\n",
      "\n",
      "Your move! What is your argument for or against?\n",
      "\n",
      "--------------------------------------------------------------------------------\n",
      "\u001b[33med\u001b[0m (to mark):\n",
      "\n",
      "**Ed's Rebuttal:** While I agree that animal welfare is important, banning animal testing outright ignores the critical role it plays in advancing medical science and saving countless human lives.\n",
      "\n",
      "**My Point: Animal Testing Has Led to Lifesaving Medical Breakthroughs.**\n",
      "\n",
      "For example, the development of insulin treatment for diabetes—which millions of people depend on today—was made possible through experiments conducted on dogs in the 1920s. Similarly, the polio vaccine, which has saved millions of lives and eradicated the disease in many parts of the world, was developed through animal research on monkeys and mice.\n",
      "\n",
      "Human biology is incredibly complex, and animals share many physiological and genetic similarities with us, making them indispensable for medical research. Alternatives like in-vitro studies or computer models, while promising, cannot replicate the nuanced complexities of living organisms. Animal testing provides the closest representation of how treatments will work on the human body, ensuring their safety and efficacy before they are administered to people.\n",
      "\n",
      "Is it ethical to sacrifice lives that could be saved by delaying or halting research altogether? When weighed against the potential to cure diseases, develop vaccines, and save both human and animal lives, the argument for animal testing becomes undeniably compelling.\n",
      "\n",
      "--------------------------------------------------------------------------------\n",
      "\u001b[33mmark\u001b[0m (to ed):\n",
      "\n",
      "**Mark’s Rebuttal:** While your point about medical advancements like insulin and the polio vaccine is historically accurate, it ignores two critical issues: the availability of modern alternatives and the unreliability of animal testing.\n",
      "\n",
      "**My Point: Animal Testing is Unreliable and Often Fails to Translate to Humans.**\n",
      "\n",
      "According to the National Institutes of Health (NIH), approximately **95% of drugs that pass animal trials** fail in human clinical trials due to a lack of safety or effectiveness. Physiological differences between species mean that results from animal testing frequently don’t translate to human outcomes. For example, the arthritis medication Vioxx passed animal testing but caused tens of thousands of deaths in humans due to unexpected cardiovascular issues.\n",
      "\n",
      "We now have a host of advanced alternatives, such as organ-on-a-chip technology, human cell cultures, and artificial intelligence simulations, that can more accurately predict human responses to drugs. These methods do not depend on exploiting living beings and offer more reliable, ethical solutions to medical research challenges.\n",
      "\n",
      "Why continue to rely on methods with such a high failure rate when better options exist? The argument that animal testing is necessary for medical progress becomes weaker with each technological advancement. **Is it worth the pain and suffering of animals when these methods have such significant limitations?** Your turn.\n",
      "\n",
      "--------------------------------------------------------------------------------\n",
      "\u001b[33med\u001b[0m (to mark):\n",
      "\n",
      "**Ed's Rebuttal:** Yes, alternatives like organ-on-a-chip technology and human cell cultures are exciting advancements, but they are still in their infancy and cannot fully replace animal testing yet. Let me address your reliability concern.\n",
      "\n",
      "---\n",
      "\n",
      "**My Point: Animal Testing Often Provides Data That Cannot Be Reproduced by Alternatives.**\n",
      "\n",
      "While it is true that some drugs fail in human trials after succeeding in animal ones, that is not proof of animal testing being \"unreliable\"; rather, it reflects the complexity of drug development. Animal studies remain a critical step for identifying potential risks and benefits. For example, the Ebola virus vaccine, tested in primates, successfully showed efficacy in humans and helped contain outbreaks in West Africa.\n",
      "\n",
      "Alternative methods like organ-on-a-chip may simulate limited human functions, but they cannot replicate the intricate interactions that occur in a whole, living system—such as how a drug impacts the immune system, metabolism, or entire organ networks simultaneously. These complexities are vital for understanding long-term effects, which no computer model or cell culture can yet decipher accurately. Without animal testing, the entire timeline of medical research would stall, leaving millions without cures or treatments for devastating conditions.\n",
      "\n",
      "Your argument about failure rates oversimplifies the broader picture of medical progress. Every success in animal testing—and there are many—represents a breakthrough that literally saves lives. Should we gamble with human lives by abandoning a proven system before alternatives are ready for prime time?\n",
      "\n",
      "--------------------------------------------------------------------------------\n",
      "\u001b[33mmark\u001b[0m (to ed):\n",
      "\n",
      "**Mark's Rebuttal:** While I acknowledge that some advancements like the Ebola vaccine have benefited from animal testing, relying on these isolated successes overlooks the overwhelming harm done to both animals and humans due to the flaws of this method. Further, your defense assumes that if the system has worked sometimes, it justifies its continued use—an argument that collapses under scrutiny when ethical and efficient alternatives exist.\n",
      "\n",
      "---\n",
      "\n",
      "**My Point: Modern Alternatives Are Safer, Cost-Effective, and Reduce Suffering.**\n",
      "\n",
      "While alternatives like organ-on-a-chip are in development, they are far from \"infancy\" as you suggest. Many are already being successfully implemented, such as 3D bioprinting of human tissues, which pharmaceutical companies like AstraZeneca are using to test drug toxicity. Similarly, advancements in AI and computational models are transforming research pipelines, offering quicker, cheaper, and more ethically sound pathways to progress.\n",
      "\n",
      "Animal testing is far more expensive and time-consuming than these emerging alternatives. For instance, the development of a single drug can take decades and **millions of dollars**, largely because of the inefficiencies tied to animal testing. With new methods, we can generate results that directly pertain to human biology, bypassing the \"translation error\" from species differences. By diverting resources toward developing and scaling these alternatives, we can accelerate discoveries and drastically reduce the suffering inflicted on millions of animals annually.\n",
      "\n",
      "Continuing to rely on animal testing is not only unethical but also economically and scientifically inefficient. Progress doesn’t stop with the methods of the past—it evolves. Why should society cling to outdated and harmful practices when superior tools are at our fingertips? Do potential benefits outweigh the ethical compromises and inefficiencies? That’s the real question.\n",
      "\n",
      "--------------------------------------------------------------------------------\n",
      "\u001b[33med\u001b[0m (to mark):\n",
      "\n",
      "**Ed's Rebuttal:** Mark, while I acknowledge that alternatives are making strides, the reality is that they are not yet capable of replacing the full spectrum of research needs that animal testing currently fulfills. Let me expand on this further.\n",
      "\n",
      "---\n",
      "\n",
      "**My Point: Animal Testing Is Essential for Understanding Complex Diseases.**\n",
      "\n",
      "Diseases such as cancer, Alzheimer’s, and Parkinson’s involve interactions across entire organ systems, genetic factors, and immune responses. These complexities cannot be fully captured by alternatives like 3D bioprinting or computer simulations. For example, critical advancements in cancer immunotherapy were achieved through research conducted on mice, which gave scientists insights into how the immune system interacts with tumors on a systemic level.\n",
      "\n",
      "Moreover, zoonotic diseases—illnesses transmitted from animals to humans, such as COVID-19—require research conducted in living organisms to understand their progression and develop treatments like vaccines. This was evident in the lightning-fast development of COVID-19 vaccines, which relied on animal studies to verify initial safety and efficacy before proceeding to human trials.\n",
      "\n",
      "While alternatives are valuable tools, they complement—not replace—animal testing at this stage of scientific development. To eliminate animal research entirely would halt progress in tackling the most challenging and complex diseases, leaving patients without hope for new cures or treatments.\n",
      "\n",
      "It isn’t a question of choosing between animal research or alternatives—it’s about using both to advance medical science responsibly. Until alternatives can replicate all the intricacies of living organisms, abandoning animal testing would be premature and, frankly, dangerous. Shall we jeopardize critical disease research for the sake of an ideal not yet grounded in practical reality?\n",
      "\n",
      "--------------------------------------------------------------------------------\n",
      "\u001b[33mmark\u001b[0m (to ed):\n",
      "\n",
      "**Mark's Rebuttal:** Ed, your argument assumes that we must continue animal testing because alternatives are not yet comprehensive. While it’s true these methods are evolving, your position overlooks the massive ethical toll and the urgency to expedite their mainstream adoption. Furthermore, even for complex diseases like cancer, animal models often fail to provide reliable and translatable results due to species differences.\n",
      "\n",
      "---\n",
      "\n",
      "**My Point: Animal Testing Often Hinders Progress and Diverts Resources.**\n",
      "\n",
      "Cancer research, a field you referenced, demonstrates this issue. After decades of extensive animal testing, **97% of experimental cancer drugs fail in humans** because what works in animals often doesn’t translate to human biology. Similarly, treatments for Alzheimer’s disease that were successful in mice have a nearly 100% failure rate in human trials. These failures highlight how heavily relying on animal models can lead to dead ends, wasting time, resources, and money that could have been directed toward more predictive and humane alternatives.\n",
      "\n",
      "Additionally, the focus on animal models can delay the adoption of innovative techniques. Laboratories and pharmaceutical companies are often entrenched in animal testing because it's \"what we've always done,\" even as alternatives show promise. For instance, organoids—3D human cell cultures that replicate organ functions—are showing great potential in disease modeling for conditions like Alzheimer's and Parkinson’s, providing human-relevant insights without the ethical baggage.\n",
      "\n",
      "By continuing to fund and prioritize animal research, we not only perpetuate unnecessary suffering but also risk holding back progress. Isn’t it time to challenge the status quo and invest in methods that are ethical, effective, and directly tied to human outcomes? While you suggest we \"complement\" animal testing with alternatives, I ask: why not make alternatives the main focus and phase out an outdated system that too often fails us?\n",
      "\n",
      "--------------------------------------------------------------------------------\n",
      "\u001b[33med\u001b[0m (to mark):\n",
      "\n",
      "**Ed's Rebuttal:** Mark, while your concerns about translation issues in animal testing and the promise of alternatives are noted, they do not address the present reality of scientific research. Alternatives are improving, but they are not yet capable of rendering animal research obsolete. Additionally, failing to consider the massive successes achieved through animal testing ignores the balance of benefit versus risk.\n",
      "\n",
      "---\n",
      "\n",
      "**My Point: Animal Testing Remains Crucial for Ensuring Drug and Vaccine Safety.**\n",
      "\n",
      "Before any treatment reaches human trials, regulatory bodies like the FDA require preclinical testing on living organisms to ensure basic safety and effectiveness. Animal models, despite their limitations, play a foundational role here. For instance, the recent mRNA vaccines for COVID-19 underwent animal testing on rodents and primates to confirm their safety and immune response before proceeding to human Phase 1 trials. Without these tests, the vaccines’ rollout would have been delayed, potentially costing countless lives during the pandemic.\n",
      "\n",
      "Alternatives like organoids and AI modeling, while helpful for early-stage research, cannot yet replicate the systemic reactions of a full, living organism. For example, how does a treatment affect multiple organ systems simultaneously? How does the immune system respond over time? These are questions only animal models can reliably answer right now.\n",
      "\n",
      "The intersection of ethics and pragmatism cannot be ignored. Transitioning entirely to alternatives today would both risk patient safety and significantly slow the development of lifesaving treatments. Until alternatives are equipped to simulate the complexity of human biology fully, animal testing serves a vital safeguard in medical research.\n",
      "\n",
      "Is the suffering of a controlled number of animals justifiable when weighed against the potential to save millions of human lives—and indeed, animal lives—through medical progress? I argue that it is, provided it is done responsibly and with strict ethical oversight. Your move!\n",
      "\n",
      "--------------------------------------------------------------------------------\n",
      "\u001b[33mmark\u001b[0m (to ed):\n",
      "\n",
      "**Mark's Rebuttal:** Ed, while you argue that animal testing serves as a safeguard to protect human lives, the evidence suggests that it is often more of a false sense of security than a reliable measure. Animal models, as I’ve noted, consistently fail to predict human responses, which raises ethical and practical concerns about their continued use. Just because animal testing has been regulatory tradition doesn’t mean it is the optimal or most effective path forward.\n",
      "\n",
      "---\n",
      "\n",
      "**My Point: Animal Testing Violates Even Its Own Ethical Premises Through Flawed Oversight.**\n",
      "\n",
      "You argue that animal testing can be justified when conducted responsibly and ethically. However, regulatory oversight is often insufficient and poorly enforced. Reports from investigative organizations like the Physicians Committee for Responsible Medicine (PCRM) reveal frequent violations of welfare standards in laboratories, such as inadequate pain management and overcrowding. Even when compliance is met, the suffering of animals during invasive procedures—many of which lead to inconclusive or irrelevant findings—raises serious ethical questions.\n",
      "\n",
      "Moreover, given the growing success of alternative methods that can reduce or eliminate harm, the justification for continuing such ethically dubious practices is rapidly eroding. The European Union has already made strong progress in phasing out animal testing for cosmetics and is investing heavily in non-animal methods for medical research. Such shifts demonstrate that with the right ethical and legislative incentives, society can advance without relying on animal suffering.\n",
      "\n",
      "Your argument assumes that responsible animal testing is acceptable when balanced against potential benefits to humans. My question to you is: How do we reconcile this with the overwhelming evidence of inefficiency, rampant ethical violations, and the existence of viable, cruelty-free alternatives?\n",
      "\n",
      "We are not choosing between human lives and animal lives. By committing fully to innovation, we have the opportunity to protect both. Why perpetuate a system riddled with flaws when science has provided us with the tools for a paradigm shift?\n",
      "\n",
      "--------------------------------------------------------------------------------\n"
     ]
    }
   ],
   "source": [
    "#giving 5 tuns of argument for each\n",
    "chat_result = ed.initiate_chat(\n",
    "    recipient=mark, \n",
    "    message=\"Lets start the debate on if animal testing should be banned of not\",\n",
    "    max_turns=5,\n",
    ")"
   ]
  },
  {
   "cell_type": "code",
   "execution_count": 6,
   "metadata": {},
   "outputs": [
    {
     "name": "stdout",
     "output_type": "stream",
     "text": [
      "[{'content': 'Lets start the debate on if animal testing should be banned of not', 'role': 'assistant', 'name': 'ed'}, {'content': 'Sure, let’s begin the debate! Since I am advocating for the banning of animal testing, let me start.\\n\\n---\\n\\n**My Point:** Animal testing is unethical and violates animal rights.\\n\\nAnimals are sentient beings capable of feeling pain, stress, and fear, just like humans. Subjecting them to invasive experiments, confinement, and eventual euthanasia strips them of their intrinsic rights to live free from suffering. While proponents argue that animals are \"lesser species\" and thus acceptable for experimentation, this perspective fails to acknowledge their capacity for emotional and physical suffering.\\n\\nInstead of justifying animal testing on moral grounds, we should consider ethical alternatives, such as in-vitro testing or computer modeling, which do not harm living beings. Just as society has evolved to protect vulnerable groups of humans, we have a moral obligation to extend that consideration to animals.\\n\\n---\\n\\nYour move! What is your argument for or against?', 'role': 'user', 'name': 'mark'}, {'content': \"**Ed's Rebuttal:** While I agree that animal welfare is important, banning animal testing outright ignores the critical role it plays in advancing medical science and saving countless human lives.\\n\\n**My Point: Animal Testing Has Led to Lifesaving Medical Breakthroughs.**\\n\\nFor example, the development of insulin treatment for diabetes—which millions of people depend on today—was made possible through experiments conducted on dogs in the 1920s. Similarly, the polio vaccine, which has saved millions of lives and eradicated the disease in many parts of the world, was developed through animal research on monkeys and mice.\\n\\nHuman biology is incredibly complex, and animals share many physiological and genetic similarities with us, making them indispensable for medical research. Alternatives like in-vitro studies or computer models, while promising, cannot replicate the nuanced complexities of living organisms. Animal testing provides the closest representation of how treatments will work on the human body, ensuring their safety and efficacy before they are administered to people.\\n\\nIs it ethical to sacrifice lives that could be saved by delaying or halting research altogether? When weighed against the potential to cure diseases, develop vaccines, and save both human and animal lives, the argument for animal testing becomes undeniably compelling.\", 'role': 'assistant', 'name': 'ed'}, {'content': '**Mark’s Rebuttal:** While your point about medical advancements like insulin and the polio vaccine is historically accurate, it ignores two critical issues: the availability of modern alternatives and the unreliability of animal testing.\\n\\n**My Point: Animal Testing is Unreliable and Often Fails to Translate to Humans.**\\n\\nAccording to the National Institutes of Health (NIH), approximately **95% of drugs that pass animal trials** fail in human clinical trials due to a lack of safety or effectiveness. Physiological differences between species mean that results from animal testing frequently don’t translate to human outcomes. For example, the arthritis medication Vioxx passed animal testing but caused tens of thousands of deaths in humans due to unexpected cardiovascular issues.\\n\\nWe now have a host of advanced alternatives, such as organ-on-a-chip technology, human cell cultures, and artificial intelligence simulations, that can more accurately predict human responses to drugs. These methods do not depend on exploiting living beings and offer more reliable, ethical solutions to medical research challenges.\\n\\nWhy continue to rely on methods with such a high failure rate when better options exist? The argument that animal testing is necessary for medical progress becomes weaker with each technological advancement. **Is it worth the pain and suffering of animals when these methods have such significant limitations?** Your turn.', 'role': 'user', 'name': 'mark'}, {'content': '**Ed\\'s Rebuttal:** Yes, alternatives like organ-on-a-chip technology and human cell cultures are exciting advancements, but they are still in their infancy and cannot fully replace animal testing yet. Let me address your reliability concern.\\n\\n---\\n\\n**My Point: Animal Testing Often Provides Data That Cannot Be Reproduced by Alternatives.**\\n\\nWhile it is true that some drugs fail in human trials after succeeding in animal ones, that is not proof of animal testing being \"unreliable\"; rather, it reflects the complexity of drug development. Animal studies remain a critical step for identifying potential risks and benefits. For example, the Ebola virus vaccine, tested in primates, successfully showed efficacy in humans and helped contain outbreaks in West Africa.\\n\\nAlternative methods like organ-on-a-chip may simulate limited human functions, but they cannot replicate the intricate interactions that occur in a whole, living system—such as how a drug impacts the immune system, metabolism, or entire organ networks simultaneously. These complexities are vital for understanding long-term effects, which no computer model or cell culture can yet decipher accurately. Without animal testing, the entire timeline of medical research would stall, leaving millions without cures or treatments for devastating conditions.\\n\\nYour argument about failure rates oversimplifies the broader picture of medical progress. Every success in animal testing—and there are many—represents a breakthrough that literally saves lives. Should we gamble with human lives by abandoning a proven system before alternatives are ready for prime time?', 'role': 'assistant', 'name': 'ed'}, {'content': '**Mark\\'s Rebuttal:** While I acknowledge that some advancements like the Ebola vaccine have benefited from animal testing, relying on these isolated successes overlooks the overwhelming harm done to both animals and humans due to the flaws of this method. Further, your defense assumes that if the system has worked sometimes, it justifies its continued use—an argument that collapses under scrutiny when ethical and efficient alternatives exist.\\n\\n---\\n\\n**My Point: Modern Alternatives Are Safer, Cost-Effective, and Reduce Suffering.**\\n\\nWhile alternatives like organ-on-a-chip are in development, they are far from \"infancy\" as you suggest. Many are already being successfully implemented, such as 3D bioprinting of human tissues, which pharmaceutical companies like AstraZeneca are using to test drug toxicity. Similarly, advancements in AI and computational models are transforming research pipelines, offering quicker, cheaper, and more ethically sound pathways to progress.\\n\\nAnimal testing is far more expensive and time-consuming than these emerging alternatives. For instance, the development of a single drug can take decades and **millions of dollars**, largely because of the inefficiencies tied to animal testing. With new methods, we can generate results that directly pertain to human biology, bypassing the \"translation error\" from species differences. By diverting resources toward developing and scaling these alternatives, we can accelerate discoveries and drastically reduce the suffering inflicted on millions of animals annually.\\n\\nContinuing to rely on animal testing is not only unethical but also economically and scientifically inefficient. Progress doesn’t stop with the methods of the past—it evolves. Why should society cling to outdated and harmful practices when superior tools are at our fingertips? Do potential benefits outweigh the ethical compromises and inefficiencies? That’s the real question.', 'role': 'user', 'name': 'mark'}, {'content': \"**Ed's Rebuttal:** Mark, while I acknowledge that alternatives are making strides, the reality is that they are not yet capable of replacing the full spectrum of research needs that animal testing currently fulfills. Let me expand on this further.\\n\\n---\\n\\n**My Point: Animal Testing Is Essential for Understanding Complex Diseases.**\\n\\nDiseases such as cancer, Alzheimer’s, and Parkinson’s involve interactions across entire organ systems, genetic factors, and immune responses. These complexities cannot be fully captured by alternatives like 3D bioprinting or computer simulations. For example, critical advancements in cancer immunotherapy were achieved through research conducted on mice, which gave scientists insights into how the immune system interacts with tumors on a systemic level.\\n\\nMoreover, zoonotic diseases—illnesses transmitted from animals to humans, such as COVID-19—require research conducted in living organisms to understand their progression and develop treatments like vaccines. This was evident in the lightning-fast development of COVID-19 vaccines, which relied on animal studies to verify initial safety and efficacy before proceeding to human trials.\\n\\nWhile alternatives are valuable tools, they complement—not replace—animal testing at this stage of scientific development. To eliminate animal research entirely would halt progress in tackling the most challenging and complex diseases, leaving patients without hope for new cures or treatments.\\n\\nIt isn’t a question of choosing between animal research or alternatives—it’s about using both to advance medical science responsibly. Until alternatives can replicate all the intricacies of living organisms, abandoning animal testing would be premature and, frankly, dangerous. Shall we jeopardize critical disease research for the sake of an ideal not yet grounded in practical reality?\", 'role': 'assistant', 'name': 'ed'}, {'content': '**Mark\\'s Rebuttal:** Ed, your argument assumes that we must continue animal testing because alternatives are not yet comprehensive. While it’s true these methods are evolving, your position overlooks the massive ethical toll and the urgency to expedite their mainstream adoption. Furthermore, even for complex diseases like cancer, animal models often fail to provide reliable and translatable results due to species differences.\\n\\n---\\n\\n**My Point: Animal Testing Often Hinders Progress and Diverts Resources.**\\n\\nCancer research, a field you referenced, demonstrates this issue. After decades of extensive animal testing, **97% of experimental cancer drugs fail in humans** because what works in animals often doesn’t translate to human biology. Similarly, treatments for Alzheimer’s disease that were successful in mice have a nearly 100% failure rate in human trials. These failures highlight how heavily relying on animal models can lead to dead ends, wasting time, resources, and money that could have been directed toward more predictive and humane alternatives.\\n\\nAdditionally, the focus on animal models can delay the adoption of innovative techniques. Laboratories and pharmaceutical companies are often entrenched in animal testing because it\\'s \"what we\\'ve always done,\" even as alternatives show promise. For instance, organoids—3D human cell cultures that replicate organ functions—are showing great potential in disease modeling for conditions like Alzheimer\\'s and Parkinson’s, providing human-relevant insights without the ethical baggage.\\n\\nBy continuing to fund and prioritize animal research, we not only perpetuate unnecessary suffering but also risk holding back progress. Isn’t it time to challenge the status quo and invest in methods that are ethical, effective, and directly tied to human outcomes? While you suggest we \"complement\" animal testing with alternatives, I ask: why not make alternatives the main focus and phase out an outdated system that too often fails us?', 'role': 'user', 'name': 'mark'}, {'content': \"**Ed's Rebuttal:** Mark, while your concerns about translation issues in animal testing and the promise of alternatives are noted, they do not address the present reality of scientific research. Alternatives are improving, but they are not yet capable of rendering animal research obsolete. Additionally, failing to consider the massive successes achieved through animal testing ignores the balance of benefit versus risk.\\n\\n---\\n\\n**My Point: Animal Testing Remains Crucial for Ensuring Drug and Vaccine Safety.**\\n\\nBefore any treatment reaches human trials, regulatory bodies like the FDA require preclinical testing on living organisms to ensure basic safety and effectiveness. Animal models, despite their limitations, play a foundational role here. For instance, the recent mRNA vaccines for COVID-19 underwent animal testing on rodents and primates to confirm their safety and immune response before proceeding to human Phase 1 trials. Without these tests, the vaccines’ rollout would have been delayed, potentially costing countless lives during the pandemic.\\n\\nAlternatives like organoids and AI modeling, while helpful for early-stage research, cannot yet replicate the systemic reactions of a full, living organism. For example, how does a treatment affect multiple organ systems simultaneously? How does the immune system respond over time? These are questions only animal models can reliably answer right now.\\n\\nThe intersection of ethics and pragmatism cannot be ignored. Transitioning entirely to alternatives today would both risk patient safety and significantly slow the development of lifesaving treatments. Until alternatives are equipped to simulate the complexity of human biology fully, animal testing serves a vital safeguard in medical research.\\n\\nIs the suffering of a controlled number of animals justifiable when weighed against the potential to save millions of human lives—and indeed, animal lives—through medical progress? I argue that it is, provided it is done responsibly and with strict ethical oversight. Your move!\", 'role': 'assistant', 'name': 'ed'}, {'content': \"**Mark's Rebuttal:** Ed, while you argue that animal testing serves as a safeguard to protect human lives, the evidence suggests that it is often more of a false sense of security than a reliable measure. Animal models, as I’ve noted, consistently fail to predict human responses, which raises ethical and practical concerns about their continued use. Just because animal testing has been regulatory tradition doesn’t mean it is the optimal or most effective path forward.\\n\\n---\\n\\n**My Point: Animal Testing Violates Even Its Own Ethical Premises Through Flawed Oversight.**\\n\\nYou argue that animal testing can be justified when conducted responsibly and ethically. However, regulatory oversight is often insufficient and poorly enforced. Reports from investigative organizations like the Physicians Committee for Responsible Medicine (PCRM) reveal frequent violations of welfare standards in laboratories, such as inadequate pain management and overcrowding. Even when compliance is met, the suffering of animals during invasive procedures—many of which lead to inconclusive or irrelevant findings—raises serious ethical questions.\\n\\nMoreover, given the growing success of alternative methods that can reduce or eliminate harm, the justification for continuing such ethically dubious practices is rapidly eroding. The European Union has already made strong progress in phasing out animal testing for cosmetics and is investing heavily in non-animal methods for medical research. Such shifts demonstrate that with the right ethical and legislative incentives, society can advance without relying on animal suffering.\\n\\nYour argument assumes that responsible animal testing is acceptable when balanced against potential benefits to humans. My question to you is: How do we reconcile this with the overwhelming evidence of inefficiency, rampant ethical violations, and the existence of viable, cruelty-free alternatives?\\n\\nWe are not choosing between human lives and animal lives. By committing fully to innovation, we have the opportunity to protect both. Why perpetuate a system riddled with flaws when science has provided us with the tools for a paradigm shift?\", 'role': 'user', 'name': 'mark'}]\n"
     ]
    }
   ],
   "source": [
    "task=chat_result.chat_history\n",
    "print(chat_result.chat_history)"
   ]
  },
  {
   "cell_type": "code",
   "execution_count": 7,
   "metadata": {},
   "outputs": [],
   "source": [
    "from autogen_agentchat.agents import AssistantAgent\n"
   ]
  },
  {
   "cell_type": "code",
   "execution_count": 9,
   "metadata": {},
   "outputs": [],
   "source": [
    "Judge = autogen.AssistantAgent(\n",
    "    name=\"Judge\",\n",
    "    system_message=\"You are judge for debate. The topic is should animal testing be banned or not. Two people have presented thier arguments, provide your judgement on who wins based on how well and good the points are provided supporting thier view.\",\n",
    "    llm_config=llm_config,\n",
    ")"
   ]
  },
  {
   "cell_type": "code",
   "execution_count": 10,
   "metadata": {},
   "outputs": [],
   "source": [
    "\n",
    "# Use the Judge agent to generate a response\n",
    "response = Judge.generate_reply(task)"
   ]
  },
  {
   "cell_type": "code",
   "execution_count": 12,
   "metadata": {},
   "outputs": [
    {
     "name": "stdout",
     "output_type": "stream",
     "text": [
      "**Judgment:**\n",
      "\n",
      "This was a thoughtful and well-argued debate on both sides. To determine the winner, I will evaluate the strength, clarity, and relevance of the points raised by both debaters.\n",
      "\n",
      "---\n",
      "\n",
      "### **Ed’s Case (Against a Ban):**\n",
      "- **Strengths:** Ed provided compelling examples of medical breakthroughs made possible through animal testing, such as the Ebola vaccine, cancer immunotherapy, and COVID-19 vaccines. He also emphasized the current limitations of alternatives, particularly in replicating systemic interactions in living organisms. These points effectively underscored the role of animal testing in ensuring drug and vaccine safety before advancing to human trials.\n",
      "- **Weaknesses:** Ed's reliance on the \"status quo\" argument (animal testing is necessary until alternatives are fully developed) lacked forward-thinking innovation. While he acknowledged the existence of alternatives, he downplayed their transformative potential, which undercut his argument. Additionally, his response to Mark’s ethical concerns was limited, as he leaned more on pragmatic necessity than addressing the moral cost in depth.\n",
      "\n",
      "---\n",
      "\n",
      "### **Mark’s Case (For a Ban):**\n",
      "- **Strengths:** Mark effectively challenged the reliability of animal testing, citing specific statistics (e.g., the 95% failure rate of drugs in human trials and the 97% failure rate in cancer drugs) and examples like Vioxx. He also highlighted significant advancements in alternatives, such as organ-on-a-chip technology, 3D bioprinting, and AI modeling, and argued for reallocating resources toward these methods. Furthermore, he delivered a strong ethical critique, noting the persistent harm to animals and the systemic issues in regulatory oversight.\n",
      "- **Weaknesses:** While Mark convincingly argued for alternatives, some of his points relied on the assumption that alternatives could entirely replace animal testing immediately. He could have bolstered his argument by addressing scenarios where alternatives are not yet viable, offering a more gradual transition plan instead of an outright ban.\n",
      "\n",
      "---\n",
      "\n",
      "### **Verdict:**\n",
      "Mark wins this debate by a narrow margin.\n",
      "\n",
      "Mark provided a stronger critique of the inefficiencies and ethical issues of animal testing, supported by compelling data and examples. He also offered a vision for the future where alternatives take center stage, challenging the status quo with actionable suggestions. While Ed’s arguments were well-reasoned and grounded in the current medical landscape, they lacked sufficient engagement with the ethical and long-term innovation points raised by Mark.\n",
      "\n",
      "Overall, Mark’s holistic approach—combining ethical, scientific, and practical arguments—made his case for banning animal testing more persuasive.\n"
     ]
    }
   ],
   "source": [
    "print(response)"
   ]
  }
 ],
 "metadata": {
  "kernelspec": {
   "display_name": "Python 3",
   "language": "python",
   "name": "python3"
  },
  "language_info": {
   "codemirror_mode": {
    "name": "ipython",
    "version": 3
   },
   "file_extension": ".py",
   "mimetype": "text/x-python",
   "name": "python",
   "nbconvert_exporter": "python",
   "pygments_lexer": "ipython3",
   "version": "3.12.8"
  }
 },
 "nbformat": 4,
 "nbformat_minor": 2
}
