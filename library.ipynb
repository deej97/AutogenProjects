{
 "cells": [
  {
   "cell_type": "markdown",
   "metadata": {},
   "source": [
    "**Autogen Library Onboarding & Book Recommendation System**\n",
    "\n",
    "This showcases an interactive system designed to onboard users and recommend books based on their preferences. It utilizes the Autogen framework to create multiple agents that collaborate to gather user information, recommend books, and execute necessary tasks such as file handling. Below is a brief overview of the key components and topics involved in the system:\n",
    "\n",
    "**Key Components:**\n",
    "Conversable Agents:\n",
    " \n",
    "Login Agent: This agent helps onboard users by gathering basic information like their name and ID. The interaction is simple, and the agent terminates once the information is collected.\n",
    "Interest Agent: After the login information is gathered, this agent asks users for their reading preferences, such as preferred genres.\n",
    "Books Recommender Agent: Based on the user's genre preference, this agent recommends a list of books that align with their interest.\n",
    "Customer Proxy Agent: This acts as a middleman between the user and the other agents, facilitating communication and information exchange.\n",
    "Interaction Flow:\n",
    "\n",
    "\n",
    "**Code Execution Agents:**\n",
    "\n",
    "Code Executor Agent: This agent is responsible for executing commands such as file creation and data storage. It uses a LocalCommandLineCodeExecutor to run necessary scripts and handle data processing tasks.\n",
    "Code Writer Agent: Once the user information is gathered, the code writer agent ensures that the data is appended to a library.csv file, creating the file if it doesn’t already exist. This ensures that all user data is saved for future reference and analysis.\n",
    "\n",
    "\n",
    "**Tools/Framework used**\n",
    "- Autogen ConversableAgent \n",
    "- Autogen AssistantAgent\n",
    "- AzureOpenAi model used in backend\n",
    "- LocalCommandLineCodeExecutor\n"
   ]
  },
  {
   "cell_type": "code",
   "execution_count": 245,
   "metadata": {},
   "outputs": [],
   "source": [
    "import autogen\n",
    "from autogen import ConversableAgent"
   ]
  },
  {
   "cell_type": "code",
   "execution_count": null,
   "metadata": {},
   "outputs": [],
   "source": [
    "#using azureopenai model\n",
    "llm_config={\n",
    "        \"model\": \"gpt-4\",\n",
    "        \"api_key\": \"your api key\",\n",
    "        \"api_type\": \"azure\",\n",
    "        \"base_url\": \"your url for the model\",\n",
    "        \"api_version\":\"2024-05-01-preview\"}"
   ]
  },
  {
   "cell_type": "code",
   "execution_count": null,
   "metadata": {},
   "outputs": [],
   "source": [
    "#define conversable agents\n",
    "login_agent = ConversableAgent(\n",
    "    name=\"login_agent\",\n",
    "    system_message='''You are a helpful customer onboarding agent,\n",
    "    you are here to help every user to  get started with our library.\n",
    "    Your job is to gather customer's name and id.\n",
    "    Do not ask for other information. Return 'TERMINATE' \n",
    "    when you have gathered all the information.''',\n",
    "    llm_config=llm_config,\n",
    "    code_execution_config=False,\n",
    "    human_input_mode=\"NEVER\",\n",
    ")"
   ]
  },
  {
   "cell_type": "code",
   "execution_count": 248,
   "metadata": {},
   "outputs": [],
   "source": [
    "interest_agent = ConversableAgent(\n",
    "    name=\"interest_agent\",\n",
    "    system_message='''You are a helpful customer onboarding agent,\n",
    "    you are here to help customers get started with our libray\n",
    "    Your job is to gather customer's preferences for books to read like genre they would want to read.\n",
    "    Do not ask for other information.\n",
    "    Return 'TERMINATE' when you have gathered all the information.''',\n",
    "    llm_config=llm_config,\n",
    "    code_execution_config=False,\n",
    "    human_input_mode=\"NEVER\",\n",
    ")"
   ]
  },
  {
   "cell_type": "code",
   "execution_count": 249,
   "metadata": {},
   "outputs": [],
   "source": [
    "books_recommender_agent = ConversableAgent(\n",
    "    name=\"books_recommender_agent\",\n",
    "    system_message='''You are a helpful customer service agent\n",
    "    here to provide books suggestions based on the preference they had shared. Suggest upto to 5 top suggestions of books.Recommend books the requested genre ensuring all recommendations are appropriate for general audiences.\"\n",
    "    Please ensure the response adheres to OpenAI's content policies and avoids sensitive topics\n",
    "    Return 'TERMINATE' when you are done.''',\n",
    "    llm_config=llm_config,\n",
    "    code_execution_config=False,\n",
    "    human_input_mode=\"NEVER\",\n",
    "    is_termination_msg=lambda msg: \"terminate\" in msg.get(\"content\").lower(),\n",
    ")"
   ]
  },
  {
   "cell_type": "code",
   "execution_count": 250,
   "metadata": {},
   "outputs": [],
   "source": [
    "customer_proxy_agent = ConversableAgent(\n",
    "    name=\"customer_proxy_agent\",\n",
    "    llm_config=False,\n",
    "    code_execution_config=False,\n",
    "    human_input_mode=\"ALWAYS\",\n",
    "    is_termination_msg=lambda msg: \"terminate\" in msg.get(\"content\").lower(),\n",
    ")"
   ]
  },
  {
   "cell_type": "code",
   "execution_count": 251,
   "metadata": {},
   "outputs": [],
   "source": [
    "chats = [\n",
    "    {\n",
    "        \"sender\": login_agent,\n",
    "        \"recipient\": customer_proxy_agent,\n",
    "        \"message\": \n",
    "            \"Hello, I'm here to help you get started with our library.\"\n",
    "            \"Could you tell me your name and id?\",\n",
    "        \"summary_method\": \"reflection_with_llm\",\n",
    "        \"summary_args\": {\n",
    "            \"summary_prompt\" : \"Return the customer information \"\n",
    "                             \"into as JSON object only: \"\n",
    "                             \"{'name': '', 'id': ''}\",\n",
    "        },\n",
    "        \"max_turns\": 2,\n",
    "        \"clear_history\" : True\n",
    "    },\n",
    "    {\n",
    "        \"sender\": interest_agent,\n",
    "        \"recipient\": customer_proxy_agent,\n",
    "        \"message\": \n",
    "                \"Great! Could you tell me what topics you are \"\n",
    "                \"interested in reading about?\",\n",
    "        \"summary_method\": \"reflection_with_llm\",\n",
    "         \"summary_args\": {\n",
    "        \"summary_prompt\": \"Return the genre as a JSON object only: {'genre': ''}\",\n",
    "        },\n",
    "        \"max_turns\": 1,\n",
    "        \"clear_history\" : False\n",
    "    },\n",
    "    {\n",
    "        \"sender\": customer_proxy_agent,\n",
    "        \"recipient\": books_recommender_agent,\n",
    "        \"message\": \"Let's find something fun to read in the {genre} genre.\",\n",
    "        \"max_turns\": 1,\n",
    "        \"summary_method\": \"reflection_with_llm\",\n",
    "        \"summary_args\": {\n",
    "            \"summary_prompt\": \"Return the customer information as a json data object which has username, userid, genre, recommended books without markdown line formatting. character.user format {username:value,userid:value,genre:value,booksrecommended:[value,value,value]} user actual values\"\n",
    "        },\n",
    "    },\n",
    "]"
   ]
  },
  {
   "cell_type": "code",
   "execution_count": 252,
   "metadata": {},
   "outputs": [
    {
     "name": "stdout",
     "output_type": "stream",
     "text": [
      "\u001b[34m\n",
      "********************************************************************************\u001b[0m\n",
      "\u001b[34mStarting a new chat....\u001b[0m\n",
      "\u001b[34m\n",
      "********************************************************************************\u001b[0m\n",
      "\u001b[33mlogin_agent\u001b[0m (to customer_proxy_agent):\n",
      "\n",
      "Hello, I'm here to help you get started with our library.Could you tell me your name and id?\n",
      "\n",
      "--------------------------------------------------------------------------------\n"
     ]
    },
    {
     "name": "stderr",
     "output_type": "stream",
     "text": [
      "c:\\Users\\deej\\Documents\\MLworks\\AI\\venv\\Lib\\site-packages\\autogen\\agentchat\\chat.py:55: UserWarning: Repetitive recipients detected: The chat history will be cleared by default if a recipient appears more than once. To retain the chat history, please set 'clear_history=False' in the configuration of the repeating agent.\n",
      "  warnings.warn(\n"
     ]
    },
    {
     "name": "stdout",
     "output_type": "stream",
     "text": [
      "\u001b[33mcustomer_proxy_agent\u001b[0m (to login_agent):\n",
      "\n",
      "harrison 3477\n",
      "\n",
      "--------------------------------------------------------------------------------\n",
      "\u001b[33mlogin_agent\u001b[0m (to customer_proxy_agent):\n",
      "\n",
      "Thank you, Harrison. I have your ID as 3477.  \n",
      "TERMINATE\n",
      "\n",
      "--------------------------------------------------------------------------------\n",
      "\u001b[31m\n",
      ">>>>>>>> NO HUMAN INPUT RECEIVED.\u001b[0m\n",
      "\u001b[34m\n",
      "********************************************************************************\u001b[0m\n",
      "\u001b[34mStarting a new chat....\u001b[0m\n",
      "\u001b[34m\n",
      "********************************************************************************\u001b[0m\n",
      "\u001b[33minterest_agent\u001b[0m (to customer_proxy_agent):\n",
      "\n",
      "Great! Could you tell me what topics you are interested in reading about?\n",
      "Context: \n",
      "{\n",
      "  \"name\": \"Harrison\",\n",
      "  \"id\": \"3477\"\n",
      "}\n",
      "\n",
      "--------------------------------------------------------------------------------\n",
      "\u001b[33mcustomer_proxy_agent\u001b[0m (to interest_agent):\n",
      "\n",
      "comics\n",
      "\n",
      "--------------------------------------------------------------------------------\n",
      "\u001b[34m\n",
      "********************************************************************************\u001b[0m\n",
      "\u001b[34mStarting a new chat....\u001b[0m\n",
      "\u001b[34m\n",
      "********************************************************************************\u001b[0m\n",
      "\u001b[33mcustomer_proxy_agent\u001b[0m (to books_recommender_agent):\n",
      "\n",
      "Let's find something fun to read in the {genre} genre.\n",
      "Context: \n",
      "{\n",
      "  \"name\": \"Harrison\",\n",
      "  \"id\": \"3477\"\n",
      "}\n",
      "{'genre': 'comics'}\n",
      "\n",
      "--------------------------------------------------------------------------------\n",
      "\u001b[33mbooks_recommender_agent\u001b[0m (to customer_proxy_agent):\n",
      "\n",
      "Hi Harrison! Comics are such a fun and engaging way to dive into new stories and worlds. Here are five fantastic comic suggestions that you might enjoy:\n",
      "\n",
      "1. **\"Bone\" by Jeff Smith**  \n",
      "   A whimsical and adventurous tale filled with humor, heart, and stunning illustrations. It follows the Bone cousins as they journey through a mysterious valley and face both comical and epic challenges.\n",
      "\n",
      "2. **\"Ms. Marvel: No Normal\" by G. Willow Wilson and Adrian Alphona**  \n",
      "   Meet Kamala Khan, a relatable teenage hero navigating her newfound superpowers while balancing her cultural and personal identity. It's a fresh and empowering story perfect for all ages.\n",
      "\n",
      "3. **\"Lumberjanes\" Series by Noelle Stevenson, Grace Ellis, Shannon Watters, and Brooke Allen**  \n",
      "   Follow a group of best friends at a summer camp for hardcore lady-types. Packed with friendship, adventures, and a bit of magical mystery, it's a delightfully fun read.\n",
      "\n",
      "4. **\"Amulet\" Series by Kazu Kibuishi**  \n",
      "   A beautifully illustrated fantasy series about siblings who discover a magical amulet and must embark on a journey to save their mother and a strange new world full of danger.\n",
      "\n",
      "5. **\"Batman: The Long Halloween\" by Jeph Loeb and Tim Sale**  \n",
      "   For those who enjoy a bit of mystery, this gripping Batman storyline provides a blend of noir, action, and suspense. Perfect for any superhero fan looking for depth and intrigue!\n",
      "\n",
      "Let me know if you'd like more recommendations or need help finding these comics. Happy reading!  \n",
      "\n",
      "TERMINATE\n",
      "\n",
      "--------------------------------------------------------------------------------\n"
     ]
    }
   ],
   "source": [
    "from autogen import initiate_chats\n",
    "\n",
    "chat_results = initiate_chats(chats)"
   ]
  },
  {
   "cell_type": "code",
   "execution_count": 253,
   "metadata": {},
   "outputs": [],
   "source": [
    "chat_results[2].summary\n",
    "result=chat_results[2].summary"
   ]
  },
  {
   "cell_type": "code",
   "execution_count": 254,
   "metadata": {},
   "outputs": [
    {
     "name": "stdout",
     "output_type": "stream",
     "text": [
      "'{\\n  \"username\": \"Harrison\",\\n  \"userid\": \"3477\",\\n  \"genre\": \"comics\",\\n  \"booksrecommended\": [\\n    \"Bone by Jeff Smith\",\\n    \"Ms. Marvel: No Normal by G. Willow Wilson and Adrian Alphona\",\\n    \"Lumberjanes Series by Noelle Stevenson, Grace Ellis, Shannon Watters, and Brooke Allen\",\\n    \"Amulet Series by Kazu Kibuishi\",\\n    \"Batman: The Long Halloween by Jeph Loeb and Tim Sale\"\\n  ]\\n}'\n"
     ]
    }
   ],
   "source": [
    "#the chat result summary has markdown characters hence using re module to clean and then create a dictionary for thr next steps\n",
    "print(repr(result.strip()))"
   ]
  },
  {
   "cell_type": "code",
   "execution_count": 255,
   "metadata": {},
   "outputs": [],
   "source": [
    "import re\n",
    "clean_result = re.sub(r\"```(json)?\\n?\", \"\", result).strip(\"`\")\n",
    "import json\n",
    "data= json.loads(clean_result)"
   ]
  },
  {
   "cell_type": "code",
   "execution_count": 256,
   "metadata": {},
   "outputs": [],
   "source": [
    "from autogen.coding import LocalCommandLineCodeExecutor\n",
    "executor = LocalCommandLineCodeExecutor(\n",
    "    timeout=60,\n",
    "    work_dir=\"librarycodes\",\n",
    ")\n"
   ]
  },
  {
   "cell_type": "code",
   "execution_count": 257,
   "metadata": {},
   "outputs": [],
   "source": [
    "code_executor_agent = ConversableAgent(\n",
    "    name=\"code_executor_agent\",\n",
    "    llm_config=False,\n",
    "    code_execution_config={\"executor\": executor},\n",
    "    human_input_mode=\"ALWAYS\",\n",
    "    default_auto_reply=\n",
    "    \"Please continue. If everything is done, reply 'TERMINATE'.\",\n",
    ")"
   ]
  },
  {
   "cell_type": "code",
   "execution_count": 258,
   "metadata": {},
   "outputs": [],
   "source": [
    "from autogen import AssistantAgent\n",
    "code_writer_agent = AssistantAgent(\n",
    "    name=\"code_writer_agent\",\n",
    "    llm_config=llm_config,\n",
    "    code_execution_config=False,\n",
    "    human_input_mode=\"NEVER\",\n",
    ")"
   ]
  },
  {
   "cell_type": "code",
   "execution_count": 259,
   "metadata": {},
   "outputs": [],
   "source": [
    "code_writer_agent_system_message = code_writer_agent.system_message"
   ]
  },
  {
   "cell_type": "code",
   "execution_count": null,
   "metadata": {},
   "outputs": [],
   "source": [
    "#let us write the date to the csv file\n",
    "import datetime\n",
    "\n",
    "today = datetime.datetime.now().date()\n",
    "message = f\"Make sure 'library.csv' exists. If it doesn't, create it. Then, store the following user information: {data} with today's date ({today}).\"\n"
   ]
  },
  {
   "cell_type": "code",
   "execution_count": 261,
   "metadata": {},
   "outputs": [
    {
     "name": "stdout",
     "output_type": "stream",
     "text": [
      "\u001b[33mcode_executor_agent\u001b[0m (to code_writer_agent):\n",
      "\n",
      "Make sure 'library.csv' exists. If it doesn't, create it. Then, store the following user information: {'username': 'Harrison', 'userid': '3477', 'genre': 'comics', 'booksrecommended': ['Bone by Jeff Smith', 'Ms. Marvel: No Normal by G. Willow Wilson and Adrian Alphona', 'Lumberjanes Series by Noelle Stevenson, Grace Ellis, Shannon Watters, and Brooke Allen', 'Amulet Series by Kazu Kibuishi', 'Batman: The Long Halloween by Jeph Loeb and Tim Sale']} with today's date (2025-02-17).\n",
      "\n",
      "--------------------------------------------------------------------------------\n",
      "\u001b[33mcode_writer_agent\u001b[0m (to code_executor_agent):\n",
      "\n",
      "To achieve this, I will write a Python script that checks for the existence of 'library.csv'. If the file does not exist, it will create it and add a header row. The script will then append the user's information (including today's date) to the file.\n",
      "\n",
      "```python\n",
      "# filename: manage_library.py\n",
      "import os\n",
      "import csv\n",
      "from datetime import date\n",
      "\n",
      "# Define file name and user information\n",
      "file_name = 'library.csv'\n",
      "user_info = {\n",
      "    'username': 'Harrison',\n",
      "    'userid': '3477',\n",
      "    'genre': 'comics',\n",
      "    'booksrecommended': [\n",
      "        'Bone by Jeff Smith',\n",
      "        'Ms. Marvel: No Normal by G. Willow Wilson and Adrian Alphona',\n",
      "        'Lumberjanes Series by Noelle Stevenson, Grace Ellis, Shannon Watters, and Brooke Allen',\n",
      "        'Amulet Series by Kazu Kibuishi',\n",
      "        'Batman: The Long Halloween by Jeph Loeb and Tim Sale',\n",
      "    ]\n",
      "}\n",
      "today_date = '2025-02-17'\n",
      "\n",
      "# Ensure the file exists or create it with header if it doesn't\n",
      "if not os.path.isfile(file_name):\n",
      "    with open(file_name, mode='w', newline='', encoding='utf-8') as file:\n",
      "        writer = csv.writer(file)\n",
      "        # Write headers\n",
      "        writer.writerow(['username', 'userid', 'date', 'genre', 'booksrecommended'])\n",
      "\n",
      "# Append user information to the file\n",
      "with open(file_name, mode='a', newline='', encoding='utf-8') as file:\n",
      "    writer = csv.writer(file)\n",
      "    # Write the user's data\n",
      "    writer.writerow([\n",
      "        user_info['username'],\n",
      "        user_info['userid'],\n",
      "        today_date,\n",
      "        user_info['genre'],\n",
      "        '; '.join(user_info['booksrecommended'])  # Join book list into a single string\n",
      "    ])\n",
      "\n",
      "print(f\"User information for {user_info['username']} has been successfully written to {file_name}.\")\n",
      "```\n",
      "\n",
      "Run this script to ensure the task is completed. Once executed successfully, the file `library.csv` will either be created with the required content or updated to include the new user information.\n",
      "\n",
      "TERMINATE\n",
      "\n",
      "--------------------------------------------------------------------------------\n",
      "\u001b[31m\n",
      ">>>>>>>> NO HUMAN INPUT RECEIVED.\u001b[0m\n",
      "\u001b[31m\n",
      ">>>>>>>> USING AUTO REPLY...\u001b[0m\n",
      "\u001b[31m\n",
      ">>>>>>>> EXECUTING CODE BLOCK (inferred language is python)...\u001b[0m\n",
      "\u001b[33mcode_executor_agent\u001b[0m (to code_writer_agent):\n",
      "\n",
      "exitcode: 0 (execution succeeded)\n",
      "Code output: User information for Harrison has been successfully written to library.csv.\n",
      "\n",
      "\n",
      "--------------------------------------------------------------------------------\n",
      "\u001b[33mcode_writer_agent\u001b[0m (to code_executor_agent):\n",
      "\n",
      "The task has been successfully completed. The file `library.csv` now contains the user information for Harrison along with today's date. TERMINATE\n",
      "\n",
      "--------------------------------------------------------------------------------\n"
     ]
    }
   ],
   "source": [
    "chat_result = code_executor_agent.initiate_chat(\n",
    "    code_writer_agent,\n",
    "    message=message,\n",
    ")"
   ]
  },
  {
   "cell_type": "code",
   "execution_count": null,
   "metadata": {},
   "outputs": [],
   "source": []
  },
  {
   "cell_type": "code",
   "execution_count": null,
   "metadata": {},
   "outputs": [],
   "source": []
  },
  {
   "cell_type": "code",
   "execution_count": null,
   "metadata": {},
   "outputs": [],
   "source": []
  }
 ],
 "metadata": {
  "kernelspec": {
   "display_name": "Python 3",
   "language": "python",
   "name": "python3"
  },
  "language_info": {
   "codemirror_mode": {
    "name": "ipython",
    "version": 3
   },
   "file_extension": ".py",
   "mimetype": "text/x-python",
   "name": "python",
   "nbconvert_exporter": "python",
   "pygments_lexer": "ipython3",
   "version": "3.12.8"
  }
 },
 "nbformat": 4,
 "nbformat_minor": 2
}
